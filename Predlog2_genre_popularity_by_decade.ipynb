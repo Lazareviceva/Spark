{
 "cells": [
  {
   "cell_type": "code",
   "execution_count": 1,
   "id": "718eea61-86b3-42e9-9297-ae978cbc8384",
   "metadata": {},
   "outputs": [],
   "source": [
    "from pyspark import SparkConf, SparkContext\n",
    "import csv\n",
    "\n",
    "def extract_year(date):\n",
    "    return date.split(\"-\")[0]\n",
    "\n",
    "if __name__ == \"__main__\":\n",
    "    conf = SparkConf().setMaster(\"local\").setAppName(\"IMDB\")\n",
    "    sc = SparkContext(conf=conf)\n",
    "    \n",
    "    #Popularnost žanrova po decenijama\n",
    "    #racunata je suma\n",
    "    \n",
    "    mymoviedb = sc.textFile(\"mymoviedb.csv\")\n",
    "    header = mymoviedb.first()\n",
    "    \n",
    "    dataFilter = mymoviedb.filter(lambda line: line != header)\n",
    "    \n",
    "    # Extract year, popularity, and genres\n",
    "    data = dataFilter.mapPartitions(lambda x: csv.reader(x)).map(lambda x: (extract_year(x[0]), float(x[3]), x[7]))\n",
    "   \n",
    "    # (genre (year, popularity))\n",
    "    genre_popularity = data.flatMap(lambda x: [(genre.strip(), (x[0], x[1])) for genre in x[2].split(\",\")])\n",
    "    \n",
    "    # Reduce by key (genre) and year, summing up popularity scores\n",
    "    genre_popularity_by_decade = genre_popularity.map(lambda x: ((x[0], x[1][0][:3] + \"0s\"), x[1][1])) \\\n",
    "        .reduceByKey(lambda a, b: a + b) \\\n",
    "        .sortByKey()\n",
    "\n",
    "    output_path = \"genre_popularity_by_decade.txt\"\n",
    "    genre_popularity_by_decade.saveAsTextFile(output_path)\n",
    "        \n",
    "    \n",
    "    # Stop the Spark context\n",
    "    sc.stop()\n"
   ]
  },
  {
   "cell_type": "code",
   "execution_count": null,
   "id": "d48d818e-0589-4f03-9412-9c0eb8c8bcb4",
   "metadata": {},
   "outputs": [],
   "source": []
  },
  {
   "cell_type": "code",
   "execution_count": null,
   "id": "21409932-f568-4105-bb5c-98cf46df63c4",
   "metadata": {},
   "outputs": [],
   "source": []
  }
 ],
 "metadata": {
  "kernelspec": {
   "display_name": "Python 3",
   "language": "python",
   "name": "python3"
  },
  "language_info": {
   "codemirror_mode": {
    "name": "ipython",
    "version": 3
   },
   "file_extension": ".py",
   "mimetype": "text/x-python",
   "name": "python",
   "nbconvert_exporter": "python",
   "pygments_lexer": "ipython3",
   "version": "3.9.4"
  }
 },
 "nbformat": 4,
 "nbformat_minor": 5
}
