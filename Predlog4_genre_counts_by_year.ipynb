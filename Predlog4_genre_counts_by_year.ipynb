{
 "cells": [
  {
   "cell_type": "code",
   "execution_count": 3,
   "id": "3021a811-85e1-4044-8fb8-4b277ab8e60c",
   "metadata": {},
   "outputs": [],
   "source": [
    "from pyspark import SparkConf, SparkContext\n",
    "import csv\n",
    "\n",
    "def extract_year(date):\n",
    "    return date.split(\"-\")[0]\n",
    "\n",
    "\n",
    "def sort_by_year(item):\n",
    "    # ('Animation', '2016')\n",
    "    return item[0][1]\n",
    "    \n",
    "if __name__ == \"__main__\":\n",
    "    conf = SparkConf().setMaster(\"local\").setAppName(\"IMDB\")\n",
    "    sc = SparkContext(conf=conf)\n",
    "    \n",
    "    #Predlog 4\n",
    "    #Najzastupljeniji žanrovi. Da li postoji razlika po decenijama ili nekim drugim vremenskim periodima\n",
    "    #Broj filmova u kategoriji po godinama\n",
    "    \n",
    "    mymoviedb = sc.textFile(\"mymoviedb.csv\")\n",
    "    header = mymoviedb.first()\n",
    "    \n",
    "    dataWithoutHeader = mymoviedb.filter(lambda line: line != header)\n",
    "    \n",
    "    # Extract from each row: year and genres\n",
    "    data = dataWithoutHeader.mapPartitions(lambda x: csv.reader(x)).map(lambda x: (extract_year(x[0]),x[7]))\n",
    "\n",
    "    # Split genres and create a key-value pair for each genre and year\n",
    "    genre_by_year = data.flatMap(lambda x: [(genre.strip(), x[0]) for genre in x[1].split(\",\")])\n",
    "    \n",
    "    # Count the occurrences of each genre by year\n",
    "    genre_counts_by_year = genre_by_year.map(lambda x: (x, 1)).reduceByKey(lambda a, b: a + b)\n",
    "    \n",
    "    sorted_genre_counts_by_year = genre_counts_by_year.sortBy(sort_by_year)\n",
    "    \n",
    "    output_path = \"genre_counts_by_year.txt\"\n",
    "    sorted_genre_counts_by_year.saveAsTextFile(output_path)\n",
    "\n",
    "    # Stop the Spark context\n",
    "    sc.stop()\n"
   ]
  },
  {
   "cell_type": "code",
   "execution_count": null,
   "id": "cae3f9b1-465e-4ded-8a41-1d740d6d0b94",
   "metadata": {},
   "outputs": [],
   "source": []
  }
 ],
 "metadata": {
  "kernelspec": {
   "display_name": "Python 3",
   "language": "python",
   "name": "python3"
  },
  "language_info": {
   "codemirror_mode": {
    "name": "ipython",
    "version": 3
   },
   "file_extension": ".py",
   "mimetype": "text/x-python",
   "name": "python",
   "nbconvert_exporter": "python",
   "pygments_lexer": "ipython3",
   "version": "3.9.4"
  }
 },
 "nbformat": 4,
 "nbformat_minor": 5
}
