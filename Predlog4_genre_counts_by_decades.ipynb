{
 "cells": [
  {
   "cell_type": "code",
   "execution_count": 1,
   "id": "3c4c9ae6-6734-433f-bdf6-a186e7a88520",
   "metadata": {},
   "outputs": [],
   "source": [
    "from pyspark import SparkConf, SparkContext\n",
    "import csv\n",
    "\n",
    "def extract_year(date):\n",
    "    return date.split(\"-\")[0]\n",
    "\n",
    "if __name__ == \"__main__\":\n",
    "    conf = SparkConf().setMaster(\"local\").setAppName(\"IMDB\")\n",
    "    sc = SparkContext(conf=conf)\n",
    "    \n",
    "    #Predlog 4\n",
    "    #Najzastupljeniji žanrovi. Da li postoji razlika po decenijama ili nekim drugim vremenskim periodima\n",
    "    #Broj filmova po dekadama, za zanr sa najvise i najmanje snimljenih filmova\n",
    "    \n",
    "    mymoviedb = sc.textFile(\"mymoviedb.csv\")\n",
    "    header = mymoviedb.first()\n",
    "    \n",
    "    dataWithoutHeader = mymoviedb.filter(lambda line: line != header)\n",
    "    \n",
    "    # Extract year and genres\n",
    "    data = dataWithoutHeader.mapPartitions(lambda x: csv.reader(x)).map(lambda x: (extract_year(x[0]),x[7]))\n",
    "\n",
    "    # Split genres and count the occurrences\n",
    "    genre_per_decade = data.flatMap(lambda x: [(genre.strip(), x[0][:3] + \"0s\") for genre in x[1].split(\",\")])\n",
    "    genre_counts = data.map(lambda x: x[1]).flatMap(lambda genres: genres.split(\",\")).map(lambda genre: (genre.strip(), 1)).reduceByKey(lambda a, b: a + b).sortBy(lambda x: x[1], ascending=True)\n",
    "    \n",
    "    # Find the genre with the maximum count\n",
    "    max_tuple = genre_counts.max(key=lambda x: x[1])\n",
    "    \n",
    "    # Find the genre with the minimum count\n",
    "    min_tuple = genre_counts.take(1)\n",
    "    \n",
    "    filtered_min_tuple = genre_per_decade.filter(lambda x: x[0] == min_tuple[0][0])\n",
    "    filtered_max_tuple = genre_per_decade.filter(lambda x: x[0] == max_tuple[0])\n",
    "    \n",
    "    # Count the occurrences of the min count genre by decade\n",
    "    min_genre_counts_by_decade = filtered_min_tuple.map(lambda x: ((x[0], x[1]), 1)) \\\n",
    "        .reduceByKey(lambda a, b: a + b) \\\n",
    "        .sortByKey()\n",
    "    \n",
    "    # Count the occurrences of the maximum count genre by decade\n",
    "    max_genre_counts_by_decade = filtered_max_tuple.map(lambda x: ((x[0], x[1]), 1)) \\\n",
    "        .reduceByKey(lambda a, b: a + b) \\\n",
    "        .sortByKey()\n",
    "    \n",
    "    results = min_genre_counts_by_decade.collect()\n",
    "    # Print the results\n",
    "    output_path = \"number_of_movies_for_min_genre_output\"\n",
    "    min_genre_counts_by_decade.saveAsTextFile(output_path)\n",
    "     \n",
    "    \n",
    "    results = max_genre_counts_by_decade.collect()\n",
    "    output_path = \"number_of_movies_for_max_genre_output\"\n",
    "    max_genre_counts_by_decade.saveAsTextFile(output_path)\n",
    "    \n",
    "    # Stop the Spark context\n",
    "    sc.stop()\n"
   ]
  },
  {
   "cell_type": "code",
   "execution_count": null,
   "id": "30ef0cce-fef1-4fff-8d1f-8cac1f0bed3f",
   "metadata": {},
   "outputs": [],
   "source": []
  },
  {
   "cell_type": "code",
   "execution_count": null,
   "id": "bc432234-e7cd-4645-b5ff-8d2ee4a86f7b",
   "metadata": {},
   "outputs": [],
   "source": []
  }
 ],
 "metadata": {
  "kernelspec": {
   "display_name": "Python 3",
   "language": "python",
   "name": "python3"
  },
  "language_info": {
   "codemirror_mode": {
    "name": "ipython",
    "version": 3
   },
   "file_extension": ".py",
   "mimetype": "text/x-python",
   "name": "python",
   "nbconvert_exporter": "python",
   "pygments_lexer": "ipython3",
   "version": "3.9.4"
  }
 },
 "nbformat": 4,
 "nbformat_minor": 5
}
